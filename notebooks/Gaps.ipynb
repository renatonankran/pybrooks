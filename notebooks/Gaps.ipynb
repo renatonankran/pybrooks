{
 "cells": [
  {
   "cell_type": "code",
   "execution_count": 2,
   "metadata": {},
   "outputs": [],
   "source": [
    "import numpy as np\n",
    "import pandas as pd\n",
    "import plotly.graph_objects as go\n",
    "# import lib.zigzag as zz\n",
    "# import lib.bars as bars\n",
    "# from lib.FeaturesExtractors.Base import Base"
   ]
  },
  {
   "cell_type": "code",
   "execution_count": 3,
   "metadata": {},
   "outputs": [
    {
     "data": {
      "text/html": [
       "<div>\n",
       "<style scoped>\n",
       "    .dataframe tbody tr th:only-of-type {\n",
       "        vertical-align: middle;\n",
       "    }\n",
       "\n",
       "    .dataframe tbody tr th {\n",
       "        vertical-align: top;\n",
       "    }\n",
       "\n",
       "    .dataframe thead th {\n",
       "        text-align: right;\n",
       "    }\n",
       "</style>\n",
       "<table border=\"1\" class=\"dataframe\">\n",
       "  <thead>\n",
       "    <tr style=\"text-align: right;\">\n",
       "      <th></th>\n",
       "      <th>time</th>\n",
       "      <th>open</th>\n",
       "      <th>high</th>\n",
       "      <th>low</th>\n",
       "      <th>close</th>\n",
       "      <th>zz</th>\n",
       "      <th>highs</th>\n",
       "      <th>lows</th>\n",
       "    </tr>\n",
       "  </thead>\n",
       "  <tbody>\n",
       "    <tr>\n",
       "      <th>96519</th>\n",
       "      <td>2021-04-05 17:35:00</td>\n",
       "      <td>5677.5</td>\n",
       "      <td>5685.0</td>\n",
       "      <td>5677.5</td>\n",
       "      <td>5685.0</td>\n",
       "      <td>NaN</td>\n",
       "      <td>NaN</td>\n",
       "      <td>NaN</td>\n",
       "    </tr>\n",
       "    <tr>\n",
       "      <th>96520</th>\n",
       "      <td>2021-04-05 17:40:00</td>\n",
       "      <td>5685.0</td>\n",
       "      <td>5685.5</td>\n",
       "      <td>5682.5</td>\n",
       "      <td>5684.0</td>\n",
       "      <td>NaN</td>\n",
       "      <td>NaN</td>\n",
       "      <td>NaN</td>\n",
       "    </tr>\n",
       "    <tr>\n",
       "      <th>96521</th>\n",
       "      <td>2021-04-05 17:45:00</td>\n",
       "      <td>5684.5</td>\n",
       "      <td>5686.0</td>\n",
       "      <td>5676.5</td>\n",
       "      <td>5679.5</td>\n",
       "      <td>5686.0</td>\n",
       "      <td>5686.0</td>\n",
       "      <td>NaN</td>\n",
       "    </tr>\n",
       "    <tr>\n",
       "      <th>96522</th>\n",
       "      <td>2021-04-05 17:50:00</td>\n",
       "      <td>5679.0</td>\n",
       "      <td>5680.5</td>\n",
       "      <td>5676.0</td>\n",
       "      <td>5677.0</td>\n",
       "      <td>5676.0</td>\n",
       "      <td>NaN</td>\n",
       "      <td>5676.0</td>\n",
       "    </tr>\n",
       "    <tr>\n",
       "      <th>96523</th>\n",
       "      <td>2021-04-05 17:55:00</td>\n",
       "      <td>5676.5</td>\n",
       "      <td>5679.0</td>\n",
       "      <td>5672.0</td>\n",
       "      <td>5672.0</td>\n",
       "      <td>NaN</td>\n",
       "      <td>NaN</td>\n",
       "      <td>NaN</td>\n",
       "    </tr>\n",
       "  </tbody>\n",
       "</table>\n",
       "</div>"
      ],
      "text/plain": [
       "                      time    open    high     low   close      zz   highs  \\\n",
       "96519  2021-04-05 17:35:00  5677.5  5685.0  5677.5  5685.0     NaN     NaN   \n",
       "96520  2021-04-05 17:40:00  5685.0  5685.5  5682.5  5684.0     NaN     NaN   \n",
       "96521  2021-04-05 17:45:00  5684.5  5686.0  5676.5  5679.5  5686.0  5686.0   \n",
       "96522  2021-04-05 17:50:00  5679.0  5680.5  5676.0  5677.0  5676.0     NaN   \n",
       "96523  2021-04-05 17:55:00  5676.5  5679.0  5672.0  5672.0     NaN     NaN   \n",
       "\n",
       "         lows  \n",
       "96519     NaN  \n",
       "96520     NaN  \n",
       "96521     NaN  \n",
       "96522  5676.0  \n",
       "96523     NaN  "
      ]
     },
     "execution_count": 3,
     "metadata": {},
     "output_type": "execute_result"
    }
   ],
   "source": [
    "data = pd.read_csv(\"..\\Datasets\\WDO@_M5-with-zz.csv\")\n",
    "# columns = ['time', 'open', 'high', 'low', 'close']\n",
    "columns = ['time', 'open', 'high', 'low', 'close', 'zz', 'highs', 'lows']\n",
    "data = data.loc[:, columns]\n",
    "# data['time']=pd.to_datetime(data['time'], unit='ms')\n",
    "data.tail()"
   ]
  },
  {
   "cell_type": "code",
   "execution_count": 4,
   "metadata": {},
   "outputs": [
    {
     "data": {
      "text/html": [
       "<div>\n",
       "<style scoped>\n",
       "    .dataframe tbody tr th:only-of-type {\n",
       "        vertical-align: middle;\n",
       "    }\n",
       "\n",
       "    .dataframe tbody tr th {\n",
       "        vertical-align: top;\n",
       "    }\n",
       "\n",
       "    .dataframe thead th {\n",
       "        text-align: right;\n",
       "    }\n",
       "</style>\n",
       "<table border=\"1\" class=\"dataframe\">\n",
       "  <thead>\n",
       "    <tr style=\"text-align: right;\">\n",
       "      <th></th>\n",
       "      <th>time</th>\n",
       "      <th>open</th>\n",
       "      <th>high</th>\n",
       "      <th>low</th>\n",
       "      <th>close</th>\n",
       "      <th>zz</th>\n",
       "      <th>highs</th>\n",
       "      <th>lows</th>\n",
       "    </tr>\n",
       "  </thead>\n",
       "  <tbody>\n",
       "    <tr>\n",
       "      <th>0</th>\n",
       "      <td>2021-03-22 09:00:00</td>\n",
       "      <td>5510.0</td>\n",
       "      <td>5518.0</td>\n",
       "      <td>5507.0</td>\n",
       "      <td>5516.0</td>\n",
       "      <td>NaN</td>\n",
       "      <td>NaN</td>\n",
       "      <td>NaN</td>\n",
       "    </tr>\n",
       "    <tr>\n",
       "      <th>1</th>\n",
       "      <td>2021-03-22 09:05:00</td>\n",
       "      <td>5516.5</td>\n",
       "      <td>5519.0</td>\n",
       "      <td>5511.0</td>\n",
       "      <td>5514.5</td>\n",
       "      <td>5519.0</td>\n",
       "      <td>5519.0</td>\n",
       "      <td>NaN</td>\n",
       "    </tr>\n",
       "    <tr>\n",
       "      <th>2</th>\n",
       "      <td>2021-03-22 09:10:00</td>\n",
       "      <td>5515.0</td>\n",
       "      <td>5515.5</td>\n",
       "      <td>5500.5</td>\n",
       "      <td>5500.5</td>\n",
       "      <td>NaN</td>\n",
       "      <td>NaN</td>\n",
       "      <td>NaN</td>\n",
       "    </tr>\n",
       "    <tr>\n",
       "      <th>3</th>\n",
       "      <td>2021-03-22 09:15:00</td>\n",
       "      <td>5500.5</td>\n",
       "      <td>5504.0</td>\n",
       "      <td>5498.0</td>\n",
       "      <td>5501.5</td>\n",
       "      <td>NaN</td>\n",
       "      <td>NaN</td>\n",
       "      <td>NaN</td>\n",
       "    </tr>\n",
       "    <tr>\n",
       "      <th>4</th>\n",
       "      <td>2021-03-22 09:20:00</td>\n",
       "      <td>5501.0</td>\n",
       "      <td>5513.0</td>\n",
       "      <td>5497.0</td>\n",
       "      <td>5510.5</td>\n",
       "      <td>5497.0</td>\n",
       "      <td>NaN</td>\n",
       "      <td>5497.0</td>\n",
       "    </tr>\n",
       "  </tbody>\n",
       "</table>\n",
       "</div>"
      ],
      "text/plain": [
       "                  time    open    high     low   close      zz   highs    lows\n",
       "0  2021-03-22 09:00:00  5510.0  5518.0  5507.0  5516.0     NaN     NaN     NaN\n",
       "1  2021-03-22 09:05:00  5516.5  5519.0  5511.0  5514.5  5519.0  5519.0     NaN\n",
       "2  2021-03-22 09:10:00  5515.0  5515.5  5500.5  5500.5     NaN     NaN     NaN\n",
       "3  2021-03-22 09:15:00  5500.5  5504.0  5498.0  5501.5     NaN     NaN     NaN\n",
       "4  2021-03-22 09:20:00  5501.0  5513.0  5497.0  5510.5  5497.0     NaN  5497.0"
      ]
     },
     "execution_count": 4,
     "metadata": {},
     "output_type": "execute_result"
    }
   ],
   "source": [
    "# parsed_ds=data.loc[(data['time']>='2021-03-19 8:00:00')&(data['time']<='2021-03-19 19:00:00')]\n",
    "parsed_ds=data.loc[(data['time']>='2021-03-22 09:00:00')&(data['time']<='2021-03-22 19:00:00')]\n",
    "parsed_ds.reset_index(inplace=True, drop=True)\n",
    "parsed_ds.head()"
   ]
  },
  {
   "cell_type": "code",
   "execution_count": 17,
   "metadata": {},
   "outputs": [
    {
     "data": {
      "text/plain": [
       "(108, 8)"
      ]
     },
     "execution_count": 17,
     "metadata": {},
     "output_type": "execute_result"
    }
   ],
   "source": [
    "# len(parsed_ds)\n",
    "parsed_ds.shape"
   ]
  },
  {
   "cell_type": "code",
   "execution_count": 5,
   "metadata": {},
   "outputs": [
    {
     "data": {
      "application/vnd.plotly.v1+json": {
       "config": {
        "plotlyServerURL": "https://plot.ly"
       },
       "data": [
        {
         "close": [
          5516,
          5514.5,
          5500.5,
          5501.5,
          5510.5,
          5516,
          5518,
          5531,
          5542.5,
          5539,
          5546,
          5543.5,
          5536,
          5533,
          5530,
          5522.5,
          5522.5,
          5527,
          5534.5,
          5539,
          5548,
          5539,
          5542.5,
          5544.5,
          5533,
          5535.5,
          5536.5,
          5532,
          5525,
          5530,
          5529.5,
          5524,
          5530,
          5518.5,
          5519.5,
          5517,
          5512.5,
          5516,
          5525.5,
          5527.5,
          5529,
          5529.5,
          5532,
          5538,
          5532.5,
          5533,
          5536,
          5529.5,
          5530.5,
          5533,
          5538.5,
          5532,
          5536.5,
          5538,
          5538.5,
          5537,
          5533.5,
          5534,
          5530.5,
          5527.5,
          5529.5,
          5526.5,
          5527,
          5525.5,
          5522.5,
          5523.5,
          5525,
          5518.5,
          5519.5,
          5517,
          5512.5,
          5514,
          5506.5,
          5508,
          5512.5,
          5507,
          5512.5,
          5515.5,
          5503.5,
          5506,
          5507,
          5504,
          5504.5,
          5509.5,
          5509.5,
          5511.5,
          5504,
          5507.5,
          5508,
          5515.5,
          5513,
          5514.5,
          5518.5,
          5517,
          5520,
          5519.5,
          5521,
          5522,
          5523.5,
          5522.5,
          5519,
          5516,
          5513,
          5510.5,
          5512,
          5509.5,
          5505,
          5514
         ],
         "high": [
          5518,
          5519,
          5515.5,
          5504,
          5513,
          5518.5,
          5520,
          5532,
          5544,
          5545,
          5548,
          5549.5,
          5547,
          5538,
          5536,
          5531,
          5526.5,
          5530.5,
          5535.5,
          5542.5,
          5549,
          5549.5,
          5544.5,
          5549.5,
          5547,
          5536.5,
          5540,
          5538.5,
          5534,
          5530.5,
          5531.5,
          5534,
          5533,
          5531,
          5522,
          5521,
          5518.5,
          5521,
          5526,
          5533.5,
          5529.5,
          5532,
          5535,
          5538.5,
          5539,
          5535.5,
          5537,
          5538,
          5534.5,
          5535,
          5539,
          5539.5,
          5536.5,
          5539,
          5540,
          5539.5,
          5538,
          5535,
          5535.5,
          5531,
          5531,
          5530,
          5528.5,
          5528.5,
          5526,
          5525.5,
          5526.5,
          5526,
          5521.5,
          5521,
          5519,
          5516,
          5514.5,
          5510,
          5515.5,
          5514,
          5512.5,
          5518,
          5516,
          5507,
          5508.5,
          5507,
          5505,
          5510,
          5514.5,
          5513.5,
          5511.5,
          5509,
          5511,
          5517,
          5517,
          5515.5,
          5520,
          5522,
          5520,
          5522.5,
          5522,
          5522.5,
          5524,
          5524.5,
          5523,
          5519.5,
          5516.5,
          5513.5,
          5513,
          5512.5,
          5511,
          5514
         ],
         "low": [
          5507,
          5511,
          5500.5,
          5498,
          5497,
          5510.5,
          5511.5,
          5516.5,
          5530,
          5535.5,
          5537.5,
          5543,
          5533.5,
          5532,
          5527,
          5520,
          5517.5,
          5521,
          5525,
          5532.5,
          5536,
          5537.5,
          5538.5,
          5542.5,
          5532.5,
          5531,
          5533.5,
          5528,
          5523.5,
          5523,
          5526.5,
          5524,
          5521.5,
          5514.5,
          5517.5,
          5516,
          5507.5,
          5510,
          5515.5,
          5525.5,
          5520.5,
          5527,
          5529,
          5530,
          5530,
          5530.5,
          5532,
          5528.5,
          5528.5,
          5530,
          5533,
          5530,
          5531.5,
          5533,
          5535.5,
          5534.5,
          5531,
          5532,
          5524.5,
          5527,
          5524.5,
          5521,
          5525,
          5524,
          5522.5,
          5522,
          5523,
          5516.5,
          5514.5,
          5516.5,
          5512,
          5511.5,
          5504.5,
          5506,
          5508,
          5507,
          5507,
          5512,
          5500.5,
          5503,
          5506,
          5501.5,
          5502,
          5504,
          5509,
          5509.5,
          5503,
          5502,
          5507.5,
          5508,
          5512.5,
          5513,
          5514,
          5516.5,
          5515.5,
          5518.5,
          5518,
          5519.5,
          5521,
          5522,
          5518,
          5514.5,
          5510.5,
          5510,
          5510,
          5508.5,
          5504.5,
          5504
         ],
         "open": [
          5510,
          5516.5,
          5515,
          5500.5,
          5501,
          5511,
          5516,
          5518,
          5531,
          5542.5,
          5539,
          5546.5,
          5543.5,
          5536,
          5532.5,
          5530.5,
          5522.5,
          5522,
          5527.5,
          5534,
          5539,
          5547.5,
          5539,
          5543,
          5545,
          5532.5,
          5536,
          5536.5,
          5532.5,
          5524.5,
          5530,
          5530,
          5524.5,
          5530,
          5518.5,
          5520,
          5517,
          5512,
          5516.5,
          5525.5,
          5528,
          5529,
          5529.5,
          5532,
          5538.5,
          5532,
          5533,
          5536.5,
          5529.5,
          5530.5,
          5533.5,
          5538.5,
          5532,
          5536,
          5538,
          5538,
          5537,
          5533,
          5533.5,
          5530.5,
          5528,
          5530,
          5526.5,
          5527,
          5525.5,
          5523,
          5523.5,
          5524.5,
          5518.5,
          5519.5,
          5517,
          5513,
          5514,
          5506.5,
          5508.5,
          5513,
          5507.5,
          5512,
          5516,
          5503.5,
          5506,
          5507,
          5504,
          5504.5,
          5509.5,
          5510,
          5511.5,
          5504,
          5507.5,
          5508.5,
          5515.5,
          5513.5,
          5514,
          5518.5,
          5517.5,
          5519.5,
          5519.5,
          5520.5,
          5522,
          5523.5,
          5522.5,
          5519,
          5516.5,
          5513,
          5511,
          5512.5,
          5509.5,
          5506
         ],
         "type": "candlestick"
        },
        {
         "type": "scatter",
         "x": [
          1,
          4,
          11,
          16,
          21,
          29,
          31,
          36,
          44,
          47,
          54,
          61,
          66,
          72,
          77,
          78,
          84,
          87,
          99,
          107
         ],
         "y": [
          5519,
          5497,
          5549.5,
          5517.5,
          5549.5,
          5523,
          5534,
          5507.5,
          5539,
          5528.5,
          5540,
          5521,
          5526.5,
          5504.5,
          5518,
          5500.5,
          5514.5,
          5502,
          5524.5,
          5504
         ]
        }
       ],
       "layout": {
        "template": {
         "data": {
          "bar": [
           {
            "error_x": {
             "color": "#2a3f5f"
            },
            "error_y": {
             "color": "#2a3f5f"
            },
            "marker": {
             "line": {
              "color": "#E5ECF6",
              "width": 0.5
             },
             "pattern": {
              "fillmode": "overlay",
              "size": 10,
              "solidity": 0.2
             }
            },
            "type": "bar"
           }
          ],
          "barpolar": [
           {
            "marker": {
             "line": {
              "color": "#E5ECF6",
              "width": 0.5
             },
             "pattern": {
              "fillmode": "overlay",
              "size": 10,
              "solidity": 0.2
             }
            },
            "type": "barpolar"
           }
          ],
          "carpet": [
           {
            "aaxis": {
             "endlinecolor": "#2a3f5f",
             "gridcolor": "white",
             "linecolor": "white",
             "minorgridcolor": "white",
             "startlinecolor": "#2a3f5f"
            },
            "baxis": {
             "endlinecolor": "#2a3f5f",
             "gridcolor": "white",
             "linecolor": "white",
             "minorgridcolor": "white",
             "startlinecolor": "#2a3f5f"
            },
            "type": "carpet"
           }
          ],
          "choropleth": [
           {
            "colorbar": {
             "outlinewidth": 0,
             "ticks": ""
            },
            "type": "choropleth"
           }
          ],
          "contour": [
           {
            "colorbar": {
             "outlinewidth": 0,
             "ticks": ""
            },
            "colorscale": [
             [
              0,
              "#0d0887"
             ],
             [
              0.1111111111111111,
              "#46039f"
             ],
             [
              0.2222222222222222,
              "#7201a8"
             ],
             [
              0.3333333333333333,
              "#9c179e"
             ],
             [
              0.4444444444444444,
              "#bd3786"
             ],
             [
              0.5555555555555556,
              "#d8576b"
             ],
             [
              0.6666666666666666,
              "#ed7953"
             ],
             [
              0.7777777777777778,
              "#fb9f3a"
             ],
             [
              0.8888888888888888,
              "#fdca26"
             ],
             [
              1,
              "#f0f921"
             ]
            ],
            "type": "contour"
           }
          ],
          "contourcarpet": [
           {
            "colorbar": {
             "outlinewidth": 0,
             "ticks": ""
            },
            "type": "contourcarpet"
           }
          ],
          "heatmap": [
           {
            "colorbar": {
             "outlinewidth": 0,
             "ticks": ""
            },
            "colorscale": [
             [
              0,
              "#0d0887"
             ],
             [
              0.1111111111111111,
              "#46039f"
             ],
             [
              0.2222222222222222,
              "#7201a8"
             ],
             [
              0.3333333333333333,
              "#9c179e"
             ],
             [
              0.4444444444444444,
              "#bd3786"
             ],
             [
              0.5555555555555556,
              "#d8576b"
             ],
             [
              0.6666666666666666,
              "#ed7953"
             ],
             [
              0.7777777777777778,
              "#fb9f3a"
             ],
             [
              0.8888888888888888,
              "#fdca26"
             ],
             [
              1,
              "#f0f921"
             ]
            ],
            "type": "heatmap"
           }
          ],
          "heatmapgl": [
           {
            "colorbar": {
             "outlinewidth": 0,
             "ticks": ""
            },
            "colorscale": [
             [
              0,
              "#0d0887"
             ],
             [
              0.1111111111111111,
              "#46039f"
             ],
             [
              0.2222222222222222,
              "#7201a8"
             ],
             [
              0.3333333333333333,
              "#9c179e"
             ],
             [
              0.4444444444444444,
              "#bd3786"
             ],
             [
              0.5555555555555556,
              "#d8576b"
             ],
             [
              0.6666666666666666,
              "#ed7953"
             ],
             [
              0.7777777777777778,
              "#fb9f3a"
             ],
             [
              0.8888888888888888,
              "#fdca26"
             ],
             [
              1,
              "#f0f921"
             ]
            ],
            "type": "heatmapgl"
           }
          ],
          "histogram": [
           {
            "marker": {
             "pattern": {
              "fillmode": "overlay",
              "size": 10,
              "solidity": 0.2
             }
            },
            "type": "histogram"
           }
          ],
          "histogram2d": [
           {
            "colorbar": {
             "outlinewidth": 0,
             "ticks": ""
            },
            "colorscale": [
             [
              0,
              "#0d0887"
             ],
             [
              0.1111111111111111,
              "#46039f"
             ],
             [
              0.2222222222222222,
              "#7201a8"
             ],
             [
              0.3333333333333333,
              "#9c179e"
             ],
             [
              0.4444444444444444,
              "#bd3786"
             ],
             [
              0.5555555555555556,
              "#d8576b"
             ],
             [
              0.6666666666666666,
              "#ed7953"
             ],
             [
              0.7777777777777778,
              "#fb9f3a"
             ],
             [
              0.8888888888888888,
              "#fdca26"
             ],
             [
              1,
              "#f0f921"
             ]
            ],
            "type": "histogram2d"
           }
          ],
          "histogram2dcontour": [
           {
            "colorbar": {
             "outlinewidth": 0,
             "ticks": ""
            },
            "colorscale": [
             [
              0,
              "#0d0887"
             ],
             [
              0.1111111111111111,
              "#46039f"
             ],
             [
              0.2222222222222222,
              "#7201a8"
             ],
             [
              0.3333333333333333,
              "#9c179e"
             ],
             [
              0.4444444444444444,
              "#bd3786"
             ],
             [
              0.5555555555555556,
              "#d8576b"
             ],
             [
              0.6666666666666666,
              "#ed7953"
             ],
             [
              0.7777777777777778,
              "#fb9f3a"
             ],
             [
              0.8888888888888888,
              "#fdca26"
             ],
             [
              1,
              "#f0f921"
             ]
            ],
            "type": "histogram2dcontour"
           }
          ],
          "mesh3d": [
           {
            "colorbar": {
             "outlinewidth": 0,
             "ticks": ""
            },
            "type": "mesh3d"
           }
          ],
          "parcoords": [
           {
            "line": {
             "colorbar": {
              "outlinewidth": 0,
              "ticks": ""
             }
            },
            "type": "parcoords"
           }
          ],
          "pie": [
           {
            "automargin": true,
            "type": "pie"
           }
          ],
          "scatter": [
           {
            "marker": {
             "colorbar": {
              "outlinewidth": 0,
              "ticks": ""
             }
            },
            "type": "scatter"
           }
          ],
          "scatter3d": [
           {
            "line": {
             "colorbar": {
              "outlinewidth": 0,
              "ticks": ""
             }
            },
            "marker": {
             "colorbar": {
              "outlinewidth": 0,
              "ticks": ""
             }
            },
            "type": "scatter3d"
           }
          ],
          "scattercarpet": [
           {
            "marker": {
             "colorbar": {
              "outlinewidth": 0,
              "ticks": ""
             }
            },
            "type": "scattercarpet"
           }
          ],
          "scattergeo": [
           {
            "marker": {
             "colorbar": {
              "outlinewidth": 0,
              "ticks": ""
             }
            },
            "type": "scattergeo"
           }
          ],
          "scattergl": [
           {
            "marker": {
             "colorbar": {
              "outlinewidth": 0,
              "ticks": ""
             }
            },
            "type": "scattergl"
           }
          ],
          "scattermapbox": [
           {
            "marker": {
             "colorbar": {
              "outlinewidth": 0,
              "ticks": ""
             }
            },
            "type": "scattermapbox"
           }
          ],
          "scatterpolar": [
           {
            "marker": {
             "colorbar": {
              "outlinewidth": 0,
              "ticks": ""
             }
            },
            "type": "scatterpolar"
           }
          ],
          "scatterpolargl": [
           {
            "marker": {
             "colorbar": {
              "outlinewidth": 0,
              "ticks": ""
             }
            },
            "type": "scatterpolargl"
           }
          ],
          "scatterternary": [
           {
            "marker": {
             "colorbar": {
              "outlinewidth": 0,
              "ticks": ""
             }
            },
            "type": "scatterternary"
           }
          ],
          "surface": [
           {
            "colorbar": {
             "outlinewidth": 0,
             "ticks": ""
            },
            "colorscale": [
             [
              0,
              "#0d0887"
             ],
             [
              0.1111111111111111,
              "#46039f"
             ],
             [
              0.2222222222222222,
              "#7201a8"
             ],
             [
              0.3333333333333333,
              "#9c179e"
             ],
             [
              0.4444444444444444,
              "#bd3786"
             ],
             [
              0.5555555555555556,
              "#d8576b"
             ],
             [
              0.6666666666666666,
              "#ed7953"
             ],
             [
              0.7777777777777778,
              "#fb9f3a"
             ],
             [
              0.8888888888888888,
              "#fdca26"
             ],
             [
              1,
              "#f0f921"
             ]
            ],
            "type": "surface"
           }
          ],
          "table": [
           {
            "cells": {
             "fill": {
              "color": "#EBF0F8"
             },
             "line": {
              "color": "white"
             }
            },
            "header": {
             "fill": {
              "color": "#C8D4E3"
             },
             "line": {
              "color": "white"
             }
            },
            "type": "table"
           }
          ]
         },
         "layout": {
          "annotationdefaults": {
           "arrowcolor": "#2a3f5f",
           "arrowhead": 0,
           "arrowwidth": 1
          },
          "autotypenumbers": "strict",
          "coloraxis": {
           "colorbar": {
            "outlinewidth": 0,
            "ticks": ""
           }
          },
          "colorscale": {
           "diverging": [
            [
             0,
             "#8e0152"
            ],
            [
             0.1,
             "#c51b7d"
            ],
            [
             0.2,
             "#de77ae"
            ],
            [
             0.3,
             "#f1b6da"
            ],
            [
             0.4,
             "#fde0ef"
            ],
            [
             0.5,
             "#f7f7f7"
            ],
            [
             0.6,
             "#e6f5d0"
            ],
            [
             0.7,
             "#b8e186"
            ],
            [
             0.8,
             "#7fbc41"
            ],
            [
             0.9,
             "#4d9221"
            ],
            [
             1,
             "#276419"
            ]
           ],
           "sequential": [
            [
             0,
             "#0d0887"
            ],
            [
             0.1111111111111111,
             "#46039f"
            ],
            [
             0.2222222222222222,
             "#7201a8"
            ],
            [
             0.3333333333333333,
             "#9c179e"
            ],
            [
             0.4444444444444444,
             "#bd3786"
            ],
            [
             0.5555555555555556,
             "#d8576b"
            ],
            [
             0.6666666666666666,
             "#ed7953"
            ],
            [
             0.7777777777777778,
             "#fb9f3a"
            ],
            [
             0.8888888888888888,
             "#fdca26"
            ],
            [
             1,
             "#f0f921"
            ]
           ],
           "sequentialminus": [
            [
             0,
             "#0d0887"
            ],
            [
             0.1111111111111111,
             "#46039f"
            ],
            [
             0.2222222222222222,
             "#7201a8"
            ],
            [
             0.3333333333333333,
             "#9c179e"
            ],
            [
             0.4444444444444444,
             "#bd3786"
            ],
            [
             0.5555555555555556,
             "#d8576b"
            ],
            [
             0.6666666666666666,
             "#ed7953"
            ],
            [
             0.7777777777777778,
             "#fb9f3a"
            ],
            [
             0.8888888888888888,
             "#fdca26"
            ],
            [
             1,
             "#f0f921"
            ]
           ]
          },
          "colorway": [
           "#636efa",
           "#EF553B",
           "#00cc96",
           "#ab63fa",
           "#FFA15A",
           "#19d3f3",
           "#FF6692",
           "#B6E880",
           "#FF97FF",
           "#FECB52"
          ],
          "font": {
           "color": "#2a3f5f"
          },
          "geo": {
           "bgcolor": "white",
           "lakecolor": "white",
           "landcolor": "#E5ECF6",
           "showlakes": true,
           "showland": true,
           "subunitcolor": "white"
          },
          "hoverlabel": {
           "align": "left"
          },
          "hovermode": "closest",
          "mapbox": {
           "style": "light"
          },
          "paper_bgcolor": "white",
          "plot_bgcolor": "#E5ECF6",
          "polar": {
           "angularaxis": {
            "gridcolor": "white",
            "linecolor": "white",
            "ticks": ""
           },
           "bgcolor": "#E5ECF6",
           "radialaxis": {
            "gridcolor": "white",
            "linecolor": "white",
            "ticks": ""
           }
          },
          "scene": {
           "xaxis": {
            "backgroundcolor": "#E5ECF6",
            "gridcolor": "white",
            "gridwidth": 2,
            "linecolor": "white",
            "showbackground": true,
            "ticks": "",
            "zerolinecolor": "white"
           },
           "yaxis": {
            "backgroundcolor": "#E5ECF6",
            "gridcolor": "white",
            "gridwidth": 2,
            "linecolor": "white",
            "showbackground": true,
            "ticks": "",
            "zerolinecolor": "white"
           },
           "zaxis": {
            "backgroundcolor": "#E5ECF6",
            "gridcolor": "white",
            "gridwidth": 2,
            "linecolor": "white",
            "showbackground": true,
            "ticks": "",
            "zerolinecolor": "white"
           }
          },
          "shapedefaults": {
           "line": {
            "color": "#2a3f5f"
           }
          },
          "ternary": {
           "aaxis": {
            "gridcolor": "white",
            "linecolor": "white",
            "ticks": ""
           },
           "baxis": {
            "gridcolor": "white",
            "linecolor": "white",
            "ticks": ""
           },
           "bgcolor": "#E5ECF6",
           "caxis": {
            "gridcolor": "white",
            "linecolor": "white",
            "ticks": ""
           }
          },
          "title": {
           "x": 0.05
          },
          "xaxis": {
           "automargin": true,
           "gridcolor": "white",
           "linecolor": "white",
           "ticks": "",
           "title": {
            "standoff": 15
           },
           "zerolinecolor": "white",
           "zerolinewidth": 2
          },
          "yaxis": {
           "automargin": true,
           "gridcolor": "white",
           "linecolor": "white",
           "ticks": "",
           "title": {
            "standoff": 15
           },
           "zerolinecolor": "white",
           "zerolinewidth": 2
          }
         }
        },
        "xaxis": {
         "rangebreaks": [
          {
           "bounds": [
            "sat",
            "mon"
           ]
          },
          {
           "bounds": [
            19,
            9
           ],
           "pattern": "hour"
          }
         ],
         "rangeslider": {
          "visible": false
         }
        }
       }
      }
     },
     "metadata": {},
     "output_type": "display_data"
    }
   ],
   "source": [
    "fig = go.Figure(data=[go.Candlestick(open=parsed_ds['open'],\n",
    "                high=parsed_ds['high'],\n",
    "                low=parsed_ds['low'],\n",
    "                close=parsed_ds['close'])])\n",
    "\n",
    "fig.add_trace(go.Scatter(\n",
    "    x=parsed_ds.loc[(parsed_ds['zz'].notnull())].index,\n",
    "    y=parsed_ds.loc[(parsed_ds['zz'].notnull())]['zz']\n",
    "))\n",
    "\n",
    "\n",
    "fig.update_xaxes(\n",
    "    rangebreaks=[\n",
    "        dict(bounds=[\"sat\", \"mon\"]), #hide weekends\n",
    "        dict(bounds=[19, 9], pattern=\"hour\"), #hide hours outside of 9am-6pm\n",
    "    ]\n",
    ")\n",
    "fig.update_layout(xaxis_rangeslider_visible=False)\n",
    "\n",
    "fig.show()"
   ]
  },
  {
   "cell_type": "code",
   "execution_count": 327,
   "metadata": {},
   "outputs": [
    {
     "data": {
      "text/html": [
       "<div>\n",
       "<style scoped>\n",
       "    .dataframe tbody tr th:only-of-type {\n",
       "        vertical-align: middle;\n",
       "    }\n",
       "\n",
       "    .dataframe tbody tr th {\n",
       "        vertical-align: top;\n",
       "    }\n",
       "\n",
       "    .dataframe thead th {\n",
       "        text-align: right;\n",
       "    }\n",
       "</style>\n",
       "<table border=\"1\" class=\"dataframe\">\n",
       "  <thead>\n",
       "    <tr style=\"text-align: right;\">\n",
       "      <th></th>\n",
       "      <th>time</th>\n",
       "      <th>open</th>\n",
       "      <th>high</th>\n",
       "      <th>low</th>\n",
       "      <th>close</th>\n",
       "      <th>zz</th>\n",
       "      <th>highs</th>\n",
       "      <th>lows</th>\n",
       "      <th>leg_start</th>\n",
       "    </tr>\n",
       "  </thead>\n",
       "  <tbody>\n",
       "    <tr>\n",
       "      <th>0</th>\n",
       "      <td>2021-01-11 09:00:00</td>\n",
       "      <td>5457.0</td>\n",
       "      <td>5462.5</td>\n",
       "      <td>5455.5</td>\n",
       "      <td>5458.5</td>\n",
       "      <td>NaN</td>\n",
       "      <td>NaN</td>\n",
       "      <td>NaN</td>\n",
       "      <td>NaN</td>\n",
       "    </tr>\n",
       "    <tr>\n",
       "      <th>1</th>\n",
       "      <td>2021-01-11 09:05:00</td>\n",
       "      <td>5458.5</td>\n",
       "      <td>5476.0</td>\n",
       "      <td>5453.0</td>\n",
       "      <td>5473.5</td>\n",
       "      <td>NaN</td>\n",
       "      <td>NaN</td>\n",
       "      <td>NaN</td>\n",
       "      <td>NaN</td>\n",
       "    </tr>\n",
       "    <tr>\n",
       "      <th>2</th>\n",
       "      <td>2021-01-11 09:10:00</td>\n",
       "      <td>5473.0</td>\n",
       "      <td>5490.5</td>\n",
       "      <td>5472.0</td>\n",
       "      <td>5489.5</td>\n",
       "      <td>NaN</td>\n",
       "      <td>NaN</td>\n",
       "      <td>NaN</td>\n",
       "      <td>NaN</td>\n",
       "    </tr>\n",
       "    <tr>\n",
       "      <th>3</th>\n",
       "      <td>2021-01-11 09:15:00</td>\n",
       "      <td>5489.5</td>\n",
       "      <td>5498.0</td>\n",
       "      <td>5488.0</td>\n",
       "      <td>5496.5</td>\n",
       "      <td>NaN</td>\n",
       "      <td>NaN</td>\n",
       "      <td>NaN</td>\n",
       "      <td>NaN</td>\n",
       "    </tr>\n",
       "    <tr>\n",
       "      <th>4</th>\n",
       "      <td>2021-01-11 09:20:00</td>\n",
       "      <td>5496.5</td>\n",
       "      <td>5499.0</td>\n",
       "      <td>5493.5</td>\n",
       "      <td>5497.5</td>\n",
       "      <td>NaN</td>\n",
       "      <td>NaN</td>\n",
       "      <td>NaN</td>\n",
       "      <td>NaN</td>\n",
       "    </tr>\n",
       "    <tr>\n",
       "      <th>5</th>\n",
       "      <td>2021-01-11 09:25:00</td>\n",
       "      <td>5497.0</td>\n",
       "      <td>5503.0</td>\n",
       "      <td>5489.5</td>\n",
       "      <td>5489.5</td>\n",
       "      <td>5503.0</td>\n",
       "      <td>5503.0</td>\n",
       "      <td>NaN</td>\n",
       "      <td>1.0</td>\n",
       "    </tr>\n",
       "    <tr>\n",
       "      <th>6</th>\n",
       "      <td>2021-01-11 09:30:00</td>\n",
       "      <td>5489.5</td>\n",
       "      <td>5494.5</td>\n",
       "      <td>5486.5</td>\n",
       "      <td>5489.5</td>\n",
       "      <td>NaN</td>\n",
       "      <td>NaN</td>\n",
       "      <td>NaN</td>\n",
       "      <td>NaN</td>\n",
       "    </tr>\n",
       "    <tr>\n",
       "      <th>7</th>\n",
       "      <td>2021-01-11 09:35:00</td>\n",
       "      <td>5490.0</td>\n",
       "      <td>5494.5</td>\n",
       "      <td>5485.0</td>\n",
       "      <td>5489.0</td>\n",
       "      <td>NaN</td>\n",
       "      <td>NaN</td>\n",
       "      <td>NaN</td>\n",
       "      <td>NaN</td>\n",
       "    </tr>\n",
       "    <tr>\n",
       "      <th>8</th>\n",
       "      <td>2021-01-11 09:40:00</td>\n",
       "      <td>5488.5</td>\n",
       "      <td>5490.5</td>\n",
       "      <td>5483.0</td>\n",
       "      <td>5484.5</td>\n",
       "      <td>NaN</td>\n",
       "      <td>NaN</td>\n",
       "      <td>NaN</td>\n",
       "      <td>NaN</td>\n",
       "    </tr>\n",
       "    <tr>\n",
       "      <th>9</th>\n",
       "      <td>2021-01-11 09:45:00</td>\n",
       "      <td>5484.5</td>\n",
       "      <td>5492.0</td>\n",
       "      <td>5478.0</td>\n",
       "      <td>5488.0</td>\n",
       "      <td>5478.0</td>\n",
       "      <td>NaN</td>\n",
       "      <td>5478.0</td>\n",
       "      <td>2.0</td>\n",
       "    </tr>\n",
       "    <tr>\n",
       "      <th>10</th>\n",
       "      <td>2021-01-11 09:50:00</td>\n",
       "      <td>5488.0</td>\n",
       "      <td>5491.0</td>\n",
       "      <td>5482.0</td>\n",
       "      <td>5491.0</td>\n",
       "      <td>NaN</td>\n",
       "      <td>NaN</td>\n",
       "      <td>NaN</td>\n",
       "      <td>NaN</td>\n",
       "    </tr>\n",
       "    <tr>\n",
       "      <th>11</th>\n",
       "      <td>2021-01-11 09:55:00</td>\n",
       "      <td>5491.0</td>\n",
       "      <td>5494.5</td>\n",
       "      <td>5482.5</td>\n",
       "      <td>5486.0</td>\n",
       "      <td>NaN</td>\n",
       "      <td>NaN</td>\n",
       "      <td>NaN</td>\n",
       "      <td>NaN</td>\n",
       "    </tr>\n",
       "    <tr>\n",
       "      <th>12</th>\n",
       "      <td>2021-01-11 10:00:00</td>\n",
       "      <td>5486.0</td>\n",
       "      <td>5498.5</td>\n",
       "      <td>5484.5</td>\n",
       "      <td>5493.5</td>\n",
       "      <td>5498.5</td>\n",
       "      <td>5498.5</td>\n",
       "      <td>NaN</td>\n",
       "      <td>NaN</td>\n",
       "    </tr>\n",
       "    <tr>\n",
       "      <th>13</th>\n",
       "      <td>2021-01-11 10:05:00</td>\n",
       "      <td>5494.0</td>\n",
       "      <td>5498.5</td>\n",
       "      <td>5491.5</td>\n",
       "      <td>5495.0</td>\n",
       "      <td>NaN</td>\n",
       "      <td>NaN</td>\n",
       "      <td>NaN</td>\n",
       "      <td>NaN</td>\n",
       "    </tr>\n",
       "    <tr>\n",
       "      <th>14</th>\n",
       "      <td>2021-01-11 10:10:00</td>\n",
       "      <td>5495.5</td>\n",
       "      <td>5496.0</td>\n",
       "      <td>5475.5</td>\n",
       "      <td>5477.0</td>\n",
       "      <td>5475.5</td>\n",
       "      <td>NaN</td>\n",
       "      <td>5475.5</td>\n",
       "      <td>3.0</td>\n",
       "    </tr>\n",
       "  </tbody>\n",
       "</table>\n",
       "</div>"
      ],
      "text/plain": [
       "                   time    open    high     low   close      zz   highs  \\\n",
       "0   2021-01-11 09:00:00  5457.0  5462.5  5455.5  5458.5     NaN     NaN   \n",
       "1   2021-01-11 09:05:00  5458.5  5476.0  5453.0  5473.5     NaN     NaN   \n",
       "2   2021-01-11 09:10:00  5473.0  5490.5  5472.0  5489.5     NaN     NaN   \n",
       "3   2021-01-11 09:15:00  5489.5  5498.0  5488.0  5496.5     NaN     NaN   \n",
       "4   2021-01-11 09:20:00  5496.5  5499.0  5493.5  5497.5     NaN     NaN   \n",
       "5   2021-01-11 09:25:00  5497.0  5503.0  5489.5  5489.5  5503.0  5503.0   \n",
       "6   2021-01-11 09:30:00  5489.5  5494.5  5486.5  5489.5     NaN     NaN   \n",
       "7   2021-01-11 09:35:00  5490.0  5494.5  5485.0  5489.0     NaN     NaN   \n",
       "8   2021-01-11 09:40:00  5488.5  5490.5  5483.0  5484.5     NaN     NaN   \n",
       "9   2021-01-11 09:45:00  5484.5  5492.0  5478.0  5488.0  5478.0     NaN   \n",
       "10  2021-01-11 09:50:00  5488.0  5491.0  5482.0  5491.0     NaN     NaN   \n",
       "11  2021-01-11 09:55:00  5491.0  5494.5  5482.5  5486.0     NaN     NaN   \n",
       "12  2021-01-11 10:00:00  5486.0  5498.5  5484.5  5493.5  5498.5  5498.5   \n",
       "13  2021-01-11 10:05:00  5494.0  5498.5  5491.5  5495.0     NaN     NaN   \n",
       "14  2021-01-11 10:10:00  5495.5  5496.0  5475.5  5477.0  5475.5     NaN   \n",
       "\n",
       "      lows  leg_start  \n",
       "0      NaN        NaN  \n",
       "1      NaN        NaN  \n",
       "2      NaN        NaN  \n",
       "3      NaN        NaN  \n",
       "4      NaN        NaN  \n",
       "5      NaN        1.0  \n",
       "6      NaN        NaN  \n",
       "7      NaN        NaN  \n",
       "8      NaN        NaN  \n",
       "9   5478.0        2.0  \n",
       "10     NaN        NaN  \n",
       "11     NaN        NaN  \n",
       "12     NaN        NaN  \n",
       "13     NaN        NaN  \n",
       "14  5475.5        3.0  "
      ]
     },
     "execution_count": 327,
     "metadata": {},
     "output_type": "execute_result"
    }
   ],
   "source": [
    "'''\n",
    "Cria uma Series com o inicio de cada perna\n",
    "contando que cada perna começa na primeira\n",
    "barra com direção igual ao ZigZag ou doji.\n",
    "\n",
    "A perna na coluna leg_start pode \n",
    "terminar uma linha antes exluindo a ultima \n",
    "barra da perna. Logo a maneira correta de \n",
    "achar a perna completa é verificar da primeira\n",
    "barra da perna até a próxima não nula ocorrencia\n",
    "da coluna \"zz\".\n",
    "\n",
    "É preciso saber o começo e o fim da perna para\n",
    "extrair a features\n",
    "'''\n",
    "fls=FindLegStart()\n",
    "parsed_ds=parsed_ds.assign(leg_start=fls.run)\n",
    "parsed_ds.head(15)"
   ]
  },
  {
   "cell_type": "code",
   "execution_count": 328,
   "metadata": {},
   "outputs": [
    {
     "name": "stdout",
     "output_type": "stream",
     "text": [
      "Number of legs:  1290\n"
     ]
    }
   ],
   "source": [
    "print(\"Number of legs: \",parsed_ds.loc[(parsed_ds['zz'].notnull())]['zz'].shape[0]-1)"
   ]
  },
  {
   "cell_type": "code",
   "execution_count": 329,
   "metadata": {},
   "outputs": [
    {
     "data": {
      "text/plain": [
       "(1282,)"
      ]
     },
     "execution_count": 329,
     "metadata": {},
     "output_type": "execute_result"
    }
   ],
   "source": [
    "al=AbstractLegs()\n",
    "legb=al.run(parsed_ds)\n",
    "legb.shape"
   ]
  },
  {
   "cell_type": "code",
   "execution_count": 10,
   "metadata": {},
   "outputs": [],
   "source": [
    "'''\n",
    "FEATURE: Contagem de barras\n",
    "Diferença entre leg_sart_idx and leg_end_idx\n",
    "\n",
    "\n",
    "'''\n",
    "\n",
    "class leg_reversal_attempts(Base):\n",
    "    def __init__(self) -> None:\n",
    "        super().__init__()\n",
    "        self.counter = 0\n",
    "        self.reversed=False\n",
    "        self.reversed_count=0\n",
    "        self.leg_ended=False\n",
    "\n",
    "    def loop(self, row):        \n",
    "        if self.leg_end(row):\n",
    "            self.leg_start_idx = None\n",
    "            self.leg_ended=True            \n",
    "\n",
    "        if self.leg_start(row):\n",
    "            self.leg_start_idx = row.name\n",
    "\n",
    "        if self.leg_start_idx!=None and self.zz_dir != None:\n",
    "            bar_direction=bars.bar_direction(row)\n",
    "            if bar_direction == self.zz_dir:\n",
    "                self.counter += 1\n",
    "            if self.counter>0 and bar_direction!=self.zz_dir:\n",
    "                self.counter=0\n",
    "                bar_direction=None\n",
    "                self.reversed_count+=1\n",
    "        \n",
    "        if self.leg_ended:\n",
    "            self.leg_ended=False\n",
    "            return self.result()\n",
    "\n",
    "    def result(self):\n",
    "        tmp = self.reversed_count\n",
    "        self.reversed_count = 0\n",
    "        return tmp\n",
    "\n",
    "        "
   ]
  },
  {
   "cell_type": "code",
   "execution_count": 11,
   "metadata": {},
   "outputs": [
    {
     "data": {
      "text/plain": [
       "4      1.0\n",
       "11     1.0\n",
       "16     1.0\n",
       "21     0.0\n",
       "29     2.0\n",
       "31     1.0\n",
       "36     2.0\n",
       "44     0.0\n",
       "47     0.0\n",
       "54     1.0\n",
       "61     2.0\n",
       "66     1.0\n",
       "72     2.0\n",
       "77     1.0\n",
       "84     2.0\n",
       "87     1.0\n",
       "99     3.0\n",
       "107    2.0\n",
       "111    1.0\n",
       "120    2.0\n",
       "122    0.0\n",
       "124    1.0\n",
       "128    0.0\n",
       "134    2.0\n",
       "138    0.0\n",
       "146    2.0\n",
       "152    2.0\n",
       "156    0.0\n",
       "165    2.0\n",
       "168    1.0\n",
       "dtype: float64"
      ]
     },
     "execution_count": 11,
     "metadata": {},
     "output_type": "execute_result"
    }
   ],
   "source": [
    "l=leg_reversal_attempts()\n",
    "random_variable=parsed_ds.apply(lambda row: l.loop(row), axis=1)\n",
    "random_variable=random_variable.loc[~np.isnan(random_variable)]\n",
    "# print()\n",
    "random_variable[:30]"
   ]
  },
  {
   "cell_type": "code",
   "execution_count": 42,
   "metadata": {},
   "outputs": [
    {
     "data": {
      "application/vnd.plotly.v1+json": {
       "config": {
        "plotlyServerURL": "https://plot.ly"
       },
       "data": [
        {
         "close": [
          5539,
          5542.5,
          5544.5,
          5533,
          5535.5,
          5536.5,
          5532,
          5525,
          5530,
          5529.5,
          5524,
          5530,
          5518.5,
          5519.5,
          5517,
          5512.5
         ],
         "high": [
          5549.5,
          5544.5,
          5549.5,
          5547,
          5536.5,
          5540,
          5538.5,
          5534,
          5530.5,
          5531.5,
          5534,
          5533,
          5531,
          5522,
          5521,
          5518.5
         ],
         "low": [
          5537.5,
          5538.5,
          5542.5,
          5532.5,
          5531,
          5533.5,
          5528,
          5523.5,
          5523,
          5526.5,
          5524,
          5521.5,
          5514.5,
          5517.5,
          5516,
          5507.5
         ],
         "open": [
          5547.5,
          5539,
          5543,
          5545,
          5532.5,
          5536,
          5536.5,
          5532.5,
          5524.5,
          5530,
          5530,
          5524.5,
          5530,
          5518.5,
          5520,
          5517
         ],
         "type": "candlestick",
         "x": [
          "2021-03-22T10:45:00",
          "2021-03-22T10:50:00",
          "2021-03-22T10:55:00",
          "2021-03-22T11:00:00",
          "2021-03-22T11:05:00",
          "2021-03-22T11:10:00",
          "2021-03-22T11:15:00",
          "2021-03-22T11:20:00",
          "2021-03-22T11:25:00",
          "2021-03-22T11:30:00",
          "2021-03-22T11:35:00",
          "2021-03-22T11:40:00",
          "2021-03-22T11:45:00",
          "2021-03-22T11:50:00",
          "2021-03-22T11:55:00",
          "2021-03-22T12:00:00"
         ]
        }
       ],
       "layout": {
        "template": {
         "data": {
          "bar": [
           {
            "error_x": {
             "color": "#2a3f5f"
            },
            "error_y": {
             "color": "#2a3f5f"
            },
            "marker": {
             "line": {
              "color": "#E5ECF6",
              "width": 0.5
             },
             "pattern": {
              "fillmode": "overlay",
              "size": 10,
              "solidity": 0.2
             }
            },
            "type": "bar"
           }
          ],
          "barpolar": [
           {
            "marker": {
             "line": {
              "color": "#E5ECF6",
              "width": 0.5
             },
             "pattern": {
              "fillmode": "overlay",
              "size": 10,
              "solidity": 0.2
             }
            },
            "type": "barpolar"
           }
          ],
          "carpet": [
           {
            "aaxis": {
             "endlinecolor": "#2a3f5f",
             "gridcolor": "white",
             "linecolor": "white",
             "minorgridcolor": "white",
             "startlinecolor": "#2a3f5f"
            },
            "baxis": {
             "endlinecolor": "#2a3f5f",
             "gridcolor": "white",
             "linecolor": "white",
             "minorgridcolor": "white",
             "startlinecolor": "#2a3f5f"
            },
            "type": "carpet"
           }
          ],
          "choropleth": [
           {
            "colorbar": {
             "outlinewidth": 0,
             "ticks": ""
            },
            "type": "choropleth"
           }
          ],
          "contour": [
           {
            "colorbar": {
             "outlinewidth": 0,
             "ticks": ""
            },
            "colorscale": [
             [
              0,
              "#0d0887"
             ],
             [
              0.1111111111111111,
              "#46039f"
             ],
             [
              0.2222222222222222,
              "#7201a8"
             ],
             [
              0.3333333333333333,
              "#9c179e"
             ],
             [
              0.4444444444444444,
              "#bd3786"
             ],
             [
              0.5555555555555556,
              "#d8576b"
             ],
             [
              0.6666666666666666,
              "#ed7953"
             ],
             [
              0.7777777777777778,
              "#fb9f3a"
             ],
             [
              0.8888888888888888,
              "#fdca26"
             ],
             [
              1,
              "#f0f921"
             ]
            ],
            "type": "contour"
           }
          ],
          "contourcarpet": [
           {
            "colorbar": {
             "outlinewidth": 0,
             "ticks": ""
            },
            "type": "contourcarpet"
           }
          ],
          "heatmap": [
           {
            "colorbar": {
             "outlinewidth": 0,
             "ticks": ""
            },
            "colorscale": [
             [
              0,
              "#0d0887"
             ],
             [
              0.1111111111111111,
              "#46039f"
             ],
             [
              0.2222222222222222,
              "#7201a8"
             ],
             [
              0.3333333333333333,
              "#9c179e"
             ],
             [
              0.4444444444444444,
              "#bd3786"
             ],
             [
              0.5555555555555556,
              "#d8576b"
             ],
             [
              0.6666666666666666,
              "#ed7953"
             ],
             [
              0.7777777777777778,
              "#fb9f3a"
             ],
             [
              0.8888888888888888,
              "#fdca26"
             ],
             [
              1,
              "#f0f921"
             ]
            ],
            "type": "heatmap"
           }
          ],
          "heatmapgl": [
           {
            "colorbar": {
             "outlinewidth": 0,
             "ticks": ""
            },
            "colorscale": [
             [
              0,
              "#0d0887"
             ],
             [
              0.1111111111111111,
              "#46039f"
             ],
             [
              0.2222222222222222,
              "#7201a8"
             ],
             [
              0.3333333333333333,
              "#9c179e"
             ],
             [
              0.4444444444444444,
              "#bd3786"
             ],
             [
              0.5555555555555556,
              "#d8576b"
             ],
             [
              0.6666666666666666,
              "#ed7953"
             ],
             [
              0.7777777777777778,
              "#fb9f3a"
             ],
             [
              0.8888888888888888,
              "#fdca26"
             ],
             [
              1,
              "#f0f921"
             ]
            ],
            "type": "heatmapgl"
           }
          ],
          "histogram": [
           {
            "marker": {
             "pattern": {
              "fillmode": "overlay",
              "size": 10,
              "solidity": 0.2
             }
            },
            "type": "histogram"
           }
          ],
          "histogram2d": [
           {
            "colorbar": {
             "outlinewidth": 0,
             "ticks": ""
            },
            "colorscale": [
             [
              0,
              "#0d0887"
             ],
             [
              0.1111111111111111,
              "#46039f"
             ],
             [
              0.2222222222222222,
              "#7201a8"
             ],
             [
              0.3333333333333333,
              "#9c179e"
             ],
             [
              0.4444444444444444,
              "#bd3786"
             ],
             [
              0.5555555555555556,
              "#d8576b"
             ],
             [
              0.6666666666666666,
              "#ed7953"
             ],
             [
              0.7777777777777778,
              "#fb9f3a"
             ],
             [
              0.8888888888888888,
              "#fdca26"
             ],
             [
              1,
              "#f0f921"
             ]
            ],
            "type": "histogram2d"
           }
          ],
          "histogram2dcontour": [
           {
            "colorbar": {
             "outlinewidth": 0,
             "ticks": ""
            },
            "colorscale": [
             [
              0,
              "#0d0887"
             ],
             [
              0.1111111111111111,
              "#46039f"
             ],
             [
              0.2222222222222222,
              "#7201a8"
             ],
             [
              0.3333333333333333,
              "#9c179e"
             ],
             [
              0.4444444444444444,
              "#bd3786"
             ],
             [
              0.5555555555555556,
              "#d8576b"
             ],
             [
              0.6666666666666666,
              "#ed7953"
             ],
             [
              0.7777777777777778,
              "#fb9f3a"
             ],
             [
              0.8888888888888888,
              "#fdca26"
             ],
             [
              1,
              "#f0f921"
             ]
            ],
            "type": "histogram2dcontour"
           }
          ],
          "mesh3d": [
           {
            "colorbar": {
             "outlinewidth": 0,
             "ticks": ""
            },
            "type": "mesh3d"
           }
          ],
          "parcoords": [
           {
            "line": {
             "colorbar": {
              "outlinewidth": 0,
              "ticks": ""
             }
            },
            "type": "parcoords"
           }
          ],
          "pie": [
           {
            "automargin": true,
            "type": "pie"
           }
          ],
          "scatter": [
           {
            "marker": {
             "colorbar": {
              "outlinewidth": 0,
              "ticks": ""
             }
            },
            "type": "scatter"
           }
          ],
          "scatter3d": [
           {
            "line": {
             "colorbar": {
              "outlinewidth": 0,
              "ticks": ""
             }
            },
            "marker": {
             "colorbar": {
              "outlinewidth": 0,
              "ticks": ""
             }
            },
            "type": "scatter3d"
           }
          ],
          "scattercarpet": [
           {
            "marker": {
             "colorbar": {
              "outlinewidth": 0,
              "ticks": ""
             }
            },
            "type": "scattercarpet"
           }
          ],
          "scattergeo": [
           {
            "marker": {
             "colorbar": {
              "outlinewidth": 0,
              "ticks": ""
             }
            },
            "type": "scattergeo"
           }
          ],
          "scattergl": [
           {
            "marker": {
             "colorbar": {
              "outlinewidth": 0,
              "ticks": ""
             }
            },
            "type": "scattergl"
           }
          ],
          "scattermapbox": [
           {
            "marker": {
             "colorbar": {
              "outlinewidth": 0,
              "ticks": ""
             }
            },
            "type": "scattermapbox"
           }
          ],
          "scatterpolar": [
           {
            "marker": {
             "colorbar": {
              "outlinewidth": 0,
              "ticks": ""
             }
            },
            "type": "scatterpolar"
           }
          ],
          "scatterpolargl": [
           {
            "marker": {
             "colorbar": {
              "outlinewidth": 0,
              "ticks": ""
             }
            },
            "type": "scatterpolargl"
           }
          ],
          "scatterternary": [
           {
            "marker": {
             "colorbar": {
              "outlinewidth": 0,
              "ticks": ""
             }
            },
            "type": "scatterternary"
           }
          ],
          "surface": [
           {
            "colorbar": {
             "outlinewidth": 0,
             "ticks": ""
            },
            "colorscale": [
             [
              0,
              "#0d0887"
             ],
             [
              0.1111111111111111,
              "#46039f"
             ],
             [
              0.2222222222222222,
              "#7201a8"
             ],
             [
              0.3333333333333333,
              "#9c179e"
             ],
             [
              0.4444444444444444,
              "#bd3786"
             ],
             [
              0.5555555555555556,
              "#d8576b"
             ],
             [
              0.6666666666666666,
              "#ed7953"
             ],
             [
              0.7777777777777778,
              "#fb9f3a"
             ],
             [
              0.8888888888888888,
              "#fdca26"
             ],
             [
              1,
              "#f0f921"
             ]
            ],
            "type": "surface"
           }
          ],
          "table": [
           {
            "cells": {
             "fill": {
              "color": "#EBF0F8"
             },
             "line": {
              "color": "white"
             }
            },
            "header": {
             "fill": {
              "color": "#C8D4E3"
             },
             "line": {
              "color": "white"
             }
            },
            "type": "table"
           }
          ]
         },
         "layout": {
          "annotationdefaults": {
           "arrowcolor": "#2a3f5f",
           "arrowhead": 0,
           "arrowwidth": 1
          },
          "autotypenumbers": "strict",
          "coloraxis": {
           "colorbar": {
            "outlinewidth": 0,
            "ticks": ""
           }
          },
          "colorscale": {
           "diverging": [
            [
             0,
             "#8e0152"
            ],
            [
             0.1,
             "#c51b7d"
            ],
            [
             0.2,
             "#de77ae"
            ],
            [
             0.3,
             "#f1b6da"
            ],
            [
             0.4,
             "#fde0ef"
            ],
            [
             0.5,
             "#f7f7f7"
            ],
            [
             0.6,
             "#e6f5d0"
            ],
            [
             0.7,
             "#b8e186"
            ],
            [
             0.8,
             "#7fbc41"
            ],
            [
             0.9,
             "#4d9221"
            ],
            [
             1,
             "#276419"
            ]
           ],
           "sequential": [
            [
             0,
             "#0d0887"
            ],
            [
             0.1111111111111111,
             "#46039f"
            ],
            [
             0.2222222222222222,
             "#7201a8"
            ],
            [
             0.3333333333333333,
             "#9c179e"
            ],
            [
             0.4444444444444444,
             "#bd3786"
            ],
            [
             0.5555555555555556,
             "#d8576b"
            ],
            [
             0.6666666666666666,
             "#ed7953"
            ],
            [
             0.7777777777777778,
             "#fb9f3a"
            ],
            [
             0.8888888888888888,
             "#fdca26"
            ],
            [
             1,
             "#f0f921"
            ]
           ],
           "sequentialminus": [
            [
             0,
             "#0d0887"
            ],
            [
             0.1111111111111111,
             "#46039f"
            ],
            [
             0.2222222222222222,
             "#7201a8"
            ],
            [
             0.3333333333333333,
             "#9c179e"
            ],
            [
             0.4444444444444444,
             "#bd3786"
            ],
            [
             0.5555555555555556,
             "#d8576b"
            ],
            [
             0.6666666666666666,
             "#ed7953"
            ],
            [
             0.7777777777777778,
             "#fb9f3a"
            ],
            [
             0.8888888888888888,
             "#fdca26"
            ],
            [
             1,
             "#f0f921"
            ]
           ]
          },
          "colorway": [
           "#636efa",
           "#EF553B",
           "#00cc96",
           "#ab63fa",
           "#FFA15A",
           "#19d3f3",
           "#FF6692",
           "#B6E880",
           "#FF97FF",
           "#FECB52"
          ],
          "font": {
           "color": "#2a3f5f"
          },
          "geo": {
           "bgcolor": "white",
           "lakecolor": "white",
           "landcolor": "#E5ECF6",
           "showlakes": true,
           "showland": true,
           "subunitcolor": "white"
          },
          "hoverlabel": {
           "align": "left"
          },
          "hovermode": "closest",
          "mapbox": {
           "style": "light"
          },
          "paper_bgcolor": "white",
          "plot_bgcolor": "#E5ECF6",
          "polar": {
           "angularaxis": {
            "gridcolor": "white",
            "linecolor": "white",
            "ticks": ""
           },
           "bgcolor": "#E5ECF6",
           "radialaxis": {
            "gridcolor": "white",
            "linecolor": "white",
            "ticks": ""
           }
          },
          "scene": {
           "xaxis": {
            "backgroundcolor": "#E5ECF6",
            "gridcolor": "white",
            "gridwidth": 2,
            "linecolor": "white",
            "showbackground": true,
            "ticks": "",
            "zerolinecolor": "white"
           },
           "yaxis": {
            "backgroundcolor": "#E5ECF6",
            "gridcolor": "white",
            "gridwidth": 2,
            "linecolor": "white",
            "showbackground": true,
            "ticks": "",
            "zerolinecolor": "white"
           },
           "zaxis": {
            "backgroundcolor": "#E5ECF6",
            "gridcolor": "white",
            "gridwidth": 2,
            "linecolor": "white",
            "showbackground": true,
            "ticks": "",
            "zerolinecolor": "white"
           }
          },
          "shapedefaults": {
           "line": {
            "color": "#2a3f5f"
           }
          },
          "ternary": {
           "aaxis": {
            "gridcolor": "white",
            "linecolor": "white",
            "ticks": ""
           },
           "baxis": {
            "gridcolor": "white",
            "linecolor": "white",
            "ticks": ""
           },
           "bgcolor": "#E5ECF6",
           "caxis": {
            "gridcolor": "white",
            "linecolor": "white",
            "ticks": ""
           }
          },
          "title": {
           "x": 0.05
          },
          "xaxis": {
           "automargin": true,
           "gridcolor": "white",
           "linecolor": "white",
           "ticks": "",
           "title": {
            "standoff": 15
           },
           "zerolinecolor": "white",
           "zerolinewidth": 2
          },
          "yaxis": {
           "automargin": true,
           "gridcolor": "white",
           "linecolor": "white",
           "ticks": "",
           "title": {
            "standoff": 15
           },
           "zerolinecolor": "white",
           "zerolinewidth": 2
          }
         }
        },
        "xaxis": {
         "rangebreaks": [
          {
           "bounds": [
            "sat",
            "mon"
           ]
          },
          {
           "bounds": [
            18,
            9
           ],
           "pattern": "hour"
          }
         ],
         "rangeslider": {
          "visible": false
         }
        }
       }
      }
     },
     "metadata": {},
     "output_type": "display_data"
    }
   ],
   "source": [
    "fig = go.Figure(data=[go.Candlestick(x=parsed_ds['time'],\n",
    "                open=parsed_ds['open'],\n",
    "                high=parsed_ds['high'],\n",
    "                low=parsed_ds['low'],\n",
    "                close=parsed_ds['close'])])\n",
    "\n",
    "# fig.add_trace(go.Scatter(\n",
    "#     x=data.loc[(data['zz'].notnull())]['time'],\n",
    "#     y=data.loc[(data['zz'].notnull())]['zz']\n",
    "# ))\n",
    "\n",
    "fig.update_xaxes(\n",
    "    rangebreaks=[\n",
    "        dict(bounds=[\"sat\", \"mon\"]), #hide weekends\n",
    "        dict(bounds=[18, 9], pattern=\"hour\"), #hide hours outside of 9am-6pm\n",
    "    ]\n",
    ")\n",
    "\n",
    "fig.update_layout(xaxis_rangeslider_visible=False)\n",
    "\n",
    "fig.show()"
   ]
  },
  {
   "cell_type": "code",
   "execution_count": 6,
   "metadata": {},
   "outputs": [
    {
     "name": "stdout",
     "output_type": "stream",
     "text": [
      "expanded_leg: 93.0, contracted_leg: 32.5\n"
     ]
    }
   ],
   "source": [
    "# Perna total expandida comparada com\n",
    "# a perna como ela aparece no grafico.\n",
    "# Relação continua de sobreposição entre \n",
    "# as barras.\n",
    "\n",
    "contracted_leg = parsed_ds.iloc[parsed_ds.shape[0]-1]['high']-parsed_ds.iloc[0]['low']\n",
    "expanded_leg=0\n",
    "for idx in range(parsed_ds.shape[0]):\n",
    "    expanded_leg+=parsed_ds.iloc[idx]['high']-parsed_ds.iloc[idx]['low']\n",
    "\n",
    "print('expanded_leg: {}, contracted_leg: {}'.format(expanded_leg,contracted_leg))"
   ]
  },
  {
   "cell_type": "code",
   "execution_count": 7,
   "metadata": {},
   "outputs": [],
   "source": [
    "leg_direction = -1"
   ]
  },
  {
   "cell_type": "code",
   "execution_count": 8,
   "metadata": {},
   "outputs": [],
   "source": [
    "'''\n",
    "Bars that trade below 50% of the bar before\n",
    "'''\n",
    "\n",
    "overlap_count=0\n",
    "for idx in range(data.shape[0]):\n",
    "    if idx <= 1:\n",
    "        continue\n",
    "    fifty=data.iloc[idx-1]['low']+(data.iloc[idx-1]['high']-data.iloc[idx-1]['low'])/2\n",
    "    if leg_direction > 0 and fifty > data.iloc[idx]['low']:\n",
    "        overlap_count+=1\n",
    "    if leg_direction < 0 and fifty < data.iloc[idx]['high']:\n",
    "        overlap_count+=1\n",
    "    \n",
    "    # print(idx)\n"
   ]
  },
  {
   "cell_type": "code",
   "execution_count": 18,
   "metadata": {},
   "outputs": [],
   "source": [
    "def between(value, bar, body=True):\n",
    "    direction = bars.bar_direction(bar)\n",
    "    if body:\n",
    "        if direction>0:\n",
    "            if bar['close']>value and bar['open'] < value:\n",
    "                return True\n",
    "        if direction<0:\n",
    "            if bar['close']<value and bar['open'] > value:\n",
    "                return True\n",
    "    else:\n",
    "        if bar['high']>value and bar['low'] < value:\n",
    "            return True\n",
    "    return False\n",
    "\n",
    "def inside_bar(outside, inside, inside_body=False):\n",
    "    if not inside_body:\n",
    "        if outside['high']>=inside['high'] and outside['low']<=inside['low']:\n",
    "            return True\n",
    "    else:\n",
    "        direction=bars.bar_direction(inside)\n",
    "        if direction>0:\n",
    "            if outside['high']>=inside['close'] and outside['low']<=inside['open']:\n",
    "                return True\n",
    "        if direction<0:\n",
    "            if outside['high']>=inside['open'] and outside['low']<=inside['close']:\n",
    "                return True\n",
    "    return False"
   ]
  },
  {
   "cell_type": "code",
   "execution_count": 57,
   "metadata": {},
   "outputs": [
    {
     "data": {
      "text/plain": [
       "True"
      ]
     },
     "execution_count": 57,
     "metadata": {},
     "output_type": "execute_result"
    }
   ],
   "source": [
    "inside_bar(parsed_ds.iloc[6],parsed_ds.iloc[7]) or \\\n",
    "inside_bar(parsed_ds.iloc[6],parsed_ds.iloc[7], inside_body=True) or \\\n",
    "between(parsed_ds.iloc[6]['close'],parsed_ds.iloc[7]) or \\\n",
    "between(parsed_ds.iloc[6]['open'],parsed_ds.iloc[7])"
   ]
  },
  {
   "cell_type": "code",
   "execution_count": 63,
   "metadata": {},
   "outputs": [
    {
     "name": "stdout",
     "output_type": "stream",
     "text": [
      "last_overlaping: 4 bar_before: 0\n",
      "last_overlaping: 10 bar_before: 6\n",
      "overlaping_count:  8\n",
      "range_starts:  [0, 6]\n"
     ]
    }
   ],
   "source": [
    "'''\n",
    "Bars that overlap with the body of bars before\n",
    "- The first bar of the range does not count\n",
    "- The body overlaps with two bars before or more\n",
    "'''\n",
    "\n",
    "overlaping_count=bar_before=last_overlaping=0\n",
    "range_starts=[]\n",
    "while bar_before<parsed_ds.shape[0]-2:\n",
    "    for overlap_bar in range(bar_before+2, parsed_ds.shape[0]):\n",
    "        doji=bars.doji(parsed_ds.iloc[bar_before])\n",
    "        if doji:\n",
    "            overlap_flag = inside_bar(parsed_ds.iloc[bar_before],parsed_ds.iloc[overlap_bar]) or \\\n",
    "                        inside_bar(parsed_ds.iloc[bar_before],parsed_ds.iloc[overlap_bar], inside_body=True) or \\\n",
    "                        between(parsed_ds.iloc[bar_before]['high'],parsed_ds.iloc[overlap_bar]) or \\\n",
    "                        between(parsed_ds.iloc[bar_before]['low'],parsed_ds.iloc[overlap_bar])\n",
    "            if overlap_bar == bar_before+2:\n",
    "                if not overlap_flag:\n",
    "                    break\n",
    "            if overlap_flag:\n",
    "                overlaping_count+=1\n",
    "                last_overlaping=overlap_bar\n",
    "                # print('bar_before: ', bar_before)\n",
    "        if not doji:\n",
    "            overlap_flag=inside_bar(parsed_ds.iloc[bar_before],parsed_ds.iloc[overlap_bar]) or \\\n",
    "                    inside_bar(parsed_ds.iloc[bar_before],parsed_ds.iloc[overlap_bar], inside_body=True) or \\\n",
    "                    between(parsed_ds.iloc[bar_before]['close'],parsed_ds.iloc[overlap_bar]) or \\\n",
    "                    between(parsed_ds.iloc[bar_before]['open'],parsed_ds.iloc[overlap_bar])\n",
    "            if overlap_bar == bar_before+2:\n",
    "                if not overlap_flag:\n",
    "                    break\n",
    "            if overlap_flag:\n",
    "                overlaping_count+=1\n",
    "                last_overlaping=overlap_bar\n",
    "\n",
    "    if last_overlaping>bar_before:\n",
    "        # print('last_overlaping: {} bar_before: {}'.format(last_overlaping,bar_before))\n",
    "        range_starts.append(bar_before)\n",
    "        bar_before=last_overlaping\n",
    "    else:\n",
    "        bar_before+=1\n",
    "        # print('bar_before: ', bar_before)\n",
    "\n",
    "overlaping_count+=len(range_starts)\n",
    "print('overlaping_count: ', overlaping_count)\n",
    "print('range_starts: ', range_starts)"
   ]
  },
  {
   "cell_type": "code",
   "execution_count": 12,
   "metadata": {},
   "outputs": [
    {
     "data": {
      "text/html": [
       "<div>\n",
       "<style scoped>\n",
       "    .dataframe tbody tr th:only-of-type {\n",
       "        vertical-align: middle;\n",
       "    }\n",
       "\n",
       "    .dataframe tbody tr th {\n",
       "        vertical-align: top;\n",
       "    }\n",
       "\n",
       "    .dataframe thead th {\n",
       "        text-align: right;\n",
       "    }\n",
       "</style>\n",
       "<table border=\"1\" class=\"dataframe\">\n",
       "  <thead>\n",
       "    <tr style=\"text-align: right;\">\n",
       "      <th></th>\n",
       "      <th>first</th>\n",
       "      <th>second</th>\n",
       "    </tr>\n",
       "  </thead>\n",
       "  <tbody>\n",
       "    <tr>\n",
       "      <th>0</th>\n",
       "      <td>1</td>\n",
       "      <td>2</td>\n",
       "    </tr>\n",
       "    <tr>\n",
       "      <th>1</th>\n",
       "      <td>1</td>\n",
       "      <td>2</td>\n",
       "    </tr>\n",
       "    <tr>\n",
       "      <th>2</th>\n",
       "      <td>1</td>\n",
       "      <td>2</td>\n",
       "    </tr>\n",
       "  </tbody>\n",
       "</table>\n",
       "</div>"
      ],
      "text/plain": [
       "   first  second\n",
       "0      1       2\n",
       "1      1       2\n",
       "2      1       2"
      ]
     },
     "execution_count": 12,
     "metadata": {},
     "output_type": "execute_result"
    }
   ],
   "source": [
    "li=[(1,2),(1,2),(1,2)]\n",
    "pd.DataFrame(li,columns=[\"first\", \"second\"])"
   ]
  }
 ],
 "metadata": {
  "interpreter": {
   "hash": "63fd5069d213b44bf678585dea6b12cceca9941eaf7f819626cde1f2670de90d"
  },
  "kernelspec": {
   "display_name": "Python 3.9.2 64-bit",
   "language": "python",
   "name": "python3"
  },
  "language_info": {
   "codemirror_mode": {
    "name": "ipython",
    "version": 3
   },
   "file_extension": ".py",
   "mimetype": "text/x-python",
   "name": "python",
   "nbconvert_exporter": "python",
   "pygments_lexer": "ipython3",
   "version": "3.9.7"
  },
  "orig_nbformat": 4
 },
 "nbformat": 4,
 "nbformat_minor": 2
}
