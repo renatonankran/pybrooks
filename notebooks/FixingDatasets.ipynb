{
 "cells": [
  {
   "cell_type": "code",
   "execution_count": 1,
   "metadata": {},
   "outputs": [],
   "source": [
    "import pandas as pd"
   ]
  },
  {
   "cell_type": "code",
   "execution_count": 32,
   "metadata": {},
   "outputs": [
    {
     "data": {
      "text/html": [
       "<div>\n",
       "<style scoped>\n",
       "    .dataframe tbody tr th:only-of-type {\n",
       "        vertical-align: middle;\n",
       "    }\n",
       "\n",
       "    .dataframe tbody tr th {\n",
       "        vertical-align: top;\n",
       "    }\n",
       "\n",
       "    .dataframe thead th {\n",
       "        text-align: right;\n",
       "    }\n",
       "</style>\n",
       "<table border=\"1\" class=\"dataframe\">\n",
       "  <thead>\n",
       "    <tr style=\"text-align: right;\">\n",
       "      <th></th>\n",
       "      <th>time</th>\n",
       "      <th>open</th>\n",
       "      <th>high</th>\n",
       "      <th>low</th>\n",
       "      <th>close</th>\n",
       "    </tr>\n",
       "  </thead>\n",
       "  <tbody>\n",
       "    <tr>\n",
       "      <th>0</th>\n",
       "      <td>2021-10-27 17:20:00</td>\n",
       "      <td>1.16133</td>\n",
       "      <td>1.16135</td>\n",
       "      <td>1.16099</td>\n",
       "      <td>1.16107</td>\n",
       "    </tr>\n",
       "    <tr>\n",
       "      <th>1</th>\n",
       "      <td>2021-10-27 17:25:00</td>\n",
       "      <td>1.16109</td>\n",
       "      <td>1.16110</td>\n",
       "      <td>1.16099</td>\n",
       "      <td>1.16101</td>\n",
       "    </tr>\n",
       "    <tr>\n",
       "      <th>2</th>\n",
       "      <td>2021-10-27 17:30:00</td>\n",
       "      <td>1.16101</td>\n",
       "      <td>1.16103</td>\n",
       "      <td>1.16088</td>\n",
       "      <td>1.16094</td>\n",
       "    </tr>\n",
       "    <tr>\n",
       "      <th>3</th>\n",
       "      <td>2021-10-27 17:35:00</td>\n",
       "      <td>1.16093</td>\n",
       "      <td>1.16093</td>\n",
       "      <td>1.16075</td>\n",
       "      <td>1.16088</td>\n",
       "    </tr>\n",
       "    <tr>\n",
       "      <th>4</th>\n",
       "      <td>2021-10-27 17:40:00</td>\n",
       "      <td>1.16088</td>\n",
       "      <td>1.16097</td>\n",
       "      <td>1.16088</td>\n",
       "      <td>1.16097</td>\n",
       "    </tr>\n",
       "  </tbody>\n",
       "</table>\n",
       "</div>"
      ],
      "text/plain": [
       "                 time     open     high      low    close\n",
       "0 2021-10-27 17:20:00  1.16133  1.16135  1.16099  1.16107\n",
       "1 2021-10-27 17:25:00  1.16109  1.16110  1.16099  1.16101\n",
       "2 2021-10-27 17:30:00  1.16101  1.16103  1.16088  1.16094\n",
       "3 2021-10-27 17:35:00  1.16093  1.16093  1.16075  1.16088\n",
       "4 2021-10-27 17:40:00  1.16088  1.16097  1.16088  1.16097"
      ]
     },
     "execution_count": 32,
     "metadata": {},
     "output_type": "execute_result"
    }
   ],
   "source": [
    "columns=['date', 't', 'open', 'high', 'low', 'close', 'vol1', 'vol2', 'vol3']\n",
    "df=pd.read_csv(\"../Datasets/EURUSDm_M5_20211_2022_mt5.csv\", sep='\\t', names=columns, header=0, parse_dates={'time':['date','t']})\n",
    "columns=['time', 'open', 'high', 'low', 'close']\n",
    "df=df.loc[:, columns]\n",
    "df.head()"
   ]
  },
  {
   "cell_type": "code",
   "execution_count": 33,
   "metadata": {},
   "outputs": [
    {
     "data": {
      "text/html": [
       "<div>\n",
       "<style scoped>\n",
       "    .dataframe tbody tr th:only-of-type {\n",
       "        vertical-align: middle;\n",
       "    }\n",
       "\n",
       "    .dataframe tbody tr th {\n",
       "        vertical-align: top;\n",
       "    }\n",
       "\n",
       "    .dataframe thead th {\n",
       "        text-align: right;\n",
       "    }\n",
       "</style>\n",
       "<table border=\"1\" class=\"dataframe\">\n",
       "  <thead>\n",
       "    <tr style=\"text-align: right;\">\n",
       "      <th></th>\n",
       "      <th>time</th>\n",
       "      <th>open</th>\n",
       "      <th>high</th>\n",
       "      <th>low</th>\n",
       "      <th>close</th>\n",
       "    </tr>\n",
       "  </thead>\n",
       "  <tbody>\n",
       "    <tr>\n",
       "      <th>0</th>\n",
       "      <td>2021-10-27 17:20:00</td>\n",
       "      <td>1.16133</td>\n",
       "      <td>1.16135</td>\n",
       "      <td>1.16099</td>\n",
       "      <td>1.16107</td>\n",
       "    </tr>\n",
       "    <tr>\n",
       "      <th>1</th>\n",
       "      <td>2021-10-27 17:25:00</td>\n",
       "      <td>1.16109</td>\n",
       "      <td>1.16110</td>\n",
       "      <td>1.16099</td>\n",
       "      <td>1.16101</td>\n",
       "    </tr>\n",
       "    <tr>\n",
       "      <th>2</th>\n",
       "      <td>2021-10-27 17:30:00</td>\n",
       "      <td>1.16101</td>\n",
       "      <td>1.16103</td>\n",
       "      <td>1.16088</td>\n",
       "      <td>1.16094</td>\n",
       "    </tr>\n",
       "    <tr>\n",
       "      <th>3</th>\n",
       "      <td>2021-10-27 17:35:00</td>\n",
       "      <td>1.16093</td>\n",
       "      <td>1.16093</td>\n",
       "      <td>1.16075</td>\n",
       "      <td>1.16088</td>\n",
       "    </tr>\n",
       "    <tr>\n",
       "      <th>4</th>\n",
       "      <td>2021-10-27 17:40:00</td>\n",
       "      <td>1.16088</td>\n",
       "      <td>1.16097</td>\n",
       "      <td>1.16088</td>\n",
       "      <td>1.16097</td>\n",
       "    </tr>\n",
       "  </tbody>\n",
       "</table>\n",
       "</div>"
      ],
      "text/plain": [
       "                  time     open     high      low    close\n",
       "0  2021-10-27 17:20:00  1.16133  1.16135  1.16099  1.16107\n",
       "1  2021-10-27 17:25:00  1.16109  1.16110  1.16099  1.16101\n",
       "2  2021-10-27 17:30:00  1.16101  1.16103  1.16088  1.16094\n",
       "3  2021-10-27 17:35:00  1.16093  1.16093  1.16075  1.16088\n",
       "4  2021-10-27 17:40:00  1.16088  1.16097  1.16088  1.16097"
      ]
     },
     "execution_count": 33,
     "metadata": {},
     "output_type": "execute_result"
    }
   ],
   "source": [
    "df.to_csv(\"../Datasets/EURUSDm_M5_2021_2022.csv\")\n",
    "df=pd.read_csv(\"../Datasets/EURUSDm_M5_2021_2022.csv\")\n",
    "df=df.loc[:,columns]\n",
    "df.head()\n",
    "# df.to_csv(\"../Datasets/EURUSDm_M5_2021-2022.csv\")"
   ]
  },
  {
   "cell_type": "code",
   "execution_count": null,
   "metadata": {},
   "outputs": [],
   "source": []
  }
 ],
 "metadata": {
  "interpreter": {
   "hash": "b38ce1339e144b024249dde351d0ff159d2165f35f978b28da18dd505c714b14"
  },
  "kernelspec": {
   "display_name": "Python 3.9.7 ('datasci')",
   "language": "python",
   "name": "python3"
  },
  "language_info": {
   "codemirror_mode": {
    "name": "ipython",
    "version": 3
   },
   "file_extension": ".py",
   "mimetype": "text/x-python",
   "name": "python",
   "nbconvert_exporter": "python",
   "pygments_lexer": "ipython3",
   "version": "3.9.7"
  },
  "orig_nbformat": 4
 },
 "nbformat": 4,
 "nbformat_minor": 2
}
