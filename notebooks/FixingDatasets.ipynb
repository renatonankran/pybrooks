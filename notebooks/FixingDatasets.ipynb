{
 "cells": [
  {
   "cell_type": "code",
   "execution_count": 2,
   "metadata": {},
   "outputs": [],
   "source": [
    "import pandas as pd"
   ]
  },
  {
   "cell_type": "code",
   "execution_count": 9,
   "metadata": {},
   "outputs": [
    {
     "data": {
      "text/html": [
       "<div>\n",
       "<style scoped>\n",
       "    .dataframe tbody tr th:only-of-type {\n",
       "        vertical-align: middle;\n",
       "    }\n",
       "\n",
       "    .dataframe tbody tr th {\n",
       "        vertical-align: top;\n",
       "    }\n",
       "\n",
       "    .dataframe thead th {\n",
       "        text-align: right;\n",
       "    }\n",
       "</style>\n",
       "<table border=\"1\" class=\"dataframe\">\n",
       "  <thead>\n",
       "    <tr style=\"text-align: right;\">\n",
       "      <th></th>\n",
       "      <th>time</th>\n",
       "      <th>open</th>\n",
       "      <th>high</th>\n",
       "      <th>low</th>\n",
       "      <th>close</th>\n",
       "    </tr>\n",
       "  </thead>\n",
       "  <tbody>\n",
       "    <tr>\n",
       "      <th>0</th>\n",
       "      <td>2021-10-27 17:20:00</td>\n",
       "      <td>0.91702</td>\n",
       "      <td>0.91724</td>\n",
       "      <td>0.91699</td>\n",
       "      <td>0.91716</td>\n",
       "    </tr>\n",
       "    <tr>\n",
       "      <th>1</th>\n",
       "      <td>2021-10-27 17:25:00</td>\n",
       "      <td>0.91717</td>\n",
       "      <td>0.91719</td>\n",
       "      <td>0.91709</td>\n",
       "      <td>0.91711</td>\n",
       "    </tr>\n",
       "    <tr>\n",
       "      <th>2</th>\n",
       "      <td>2021-10-27 17:30:00</td>\n",
       "      <td>0.91714</td>\n",
       "      <td>0.91728</td>\n",
       "      <td>0.91709</td>\n",
       "      <td>0.91723</td>\n",
       "    </tr>\n",
       "    <tr>\n",
       "      <th>3</th>\n",
       "      <td>2021-10-27 17:35:00</td>\n",
       "      <td>0.91722</td>\n",
       "      <td>0.91739</td>\n",
       "      <td>0.91720</td>\n",
       "      <td>0.91733</td>\n",
       "    </tr>\n",
       "    <tr>\n",
       "      <th>4</th>\n",
       "      <td>2021-10-27 17:40:00</td>\n",
       "      <td>0.91734</td>\n",
       "      <td>0.91736</td>\n",
       "      <td>0.91728</td>\n",
       "      <td>0.91728</td>\n",
       "    </tr>\n",
       "  </tbody>\n",
       "</table>\n",
       "</div>"
      ],
      "text/plain": [
       "                 time     open     high      low    close\n",
       "0 2021-10-27 17:20:00  0.91702  0.91724  0.91699  0.91716\n",
       "1 2021-10-27 17:25:00  0.91717  0.91719  0.91709  0.91711\n",
       "2 2021-10-27 17:30:00  0.91714  0.91728  0.91709  0.91723\n",
       "3 2021-10-27 17:35:00  0.91722  0.91739  0.91720  0.91733\n",
       "4 2021-10-27 17:40:00  0.91734  0.91736  0.91728  0.91728"
      ]
     },
     "execution_count": 9,
     "metadata": {},
     "output_type": "execute_result"
    }
   ],
   "source": [
    "name=\"../Datasets/USDCHFm_M5_2021_2022_mt5.csv\"\n",
    "name2=\"../Datasets/USDCHFm_M5_2021_2022.csv\"\n",
    "columns=['date', 't', 'open', 'high', 'low', 'close', 'vol1', 'vol2', 'vol3']\n",
    "df=pd.read_csv(name, sep='\\t', names=columns, header=0, parse_dates={'time':['date','t']})\n",
    "columns=['time', 'open', 'high', 'low', 'close']\n",
    "df=df.loc[:, columns]\n",
    "df.head()"
   ]
  },
  {
   "cell_type": "code",
   "execution_count": 10,
   "metadata": {},
   "outputs": [
    {
     "data": {
      "text/html": [
       "<div>\n",
       "<style scoped>\n",
       "    .dataframe tbody tr th:only-of-type {\n",
       "        vertical-align: middle;\n",
       "    }\n",
       "\n",
       "    .dataframe tbody tr th {\n",
       "        vertical-align: top;\n",
       "    }\n",
       "\n",
       "    .dataframe thead th {\n",
       "        text-align: right;\n",
       "    }\n",
       "</style>\n",
       "<table border=\"1\" class=\"dataframe\">\n",
       "  <thead>\n",
       "    <tr style=\"text-align: right;\">\n",
       "      <th></th>\n",
       "      <th>time</th>\n",
       "      <th>open</th>\n",
       "      <th>high</th>\n",
       "      <th>low</th>\n",
       "      <th>close</th>\n",
       "    </tr>\n",
       "  </thead>\n",
       "  <tbody>\n",
       "    <tr>\n",
       "      <th>0</th>\n",
       "      <td>2021-10-27 17:20:00</td>\n",
       "      <td>0.91702</td>\n",
       "      <td>0.91724</td>\n",
       "      <td>0.91699</td>\n",
       "      <td>0.91716</td>\n",
       "    </tr>\n",
       "    <tr>\n",
       "      <th>1</th>\n",
       "      <td>2021-10-27 17:25:00</td>\n",
       "      <td>0.91717</td>\n",
       "      <td>0.91719</td>\n",
       "      <td>0.91709</td>\n",
       "      <td>0.91711</td>\n",
       "    </tr>\n",
       "    <tr>\n",
       "      <th>2</th>\n",
       "      <td>2021-10-27 17:30:00</td>\n",
       "      <td>0.91714</td>\n",
       "      <td>0.91728</td>\n",
       "      <td>0.91709</td>\n",
       "      <td>0.91723</td>\n",
       "    </tr>\n",
       "    <tr>\n",
       "      <th>3</th>\n",
       "      <td>2021-10-27 17:35:00</td>\n",
       "      <td>0.91722</td>\n",
       "      <td>0.91739</td>\n",
       "      <td>0.91720</td>\n",
       "      <td>0.91733</td>\n",
       "    </tr>\n",
       "    <tr>\n",
       "      <th>4</th>\n",
       "      <td>2021-10-27 17:40:00</td>\n",
       "      <td>0.91734</td>\n",
       "      <td>0.91736</td>\n",
       "      <td>0.91728</td>\n",
       "      <td>0.91728</td>\n",
       "    </tr>\n",
       "  </tbody>\n",
       "</table>\n",
       "</div>"
      ],
      "text/plain": [
       "                  time     open     high      low    close\n",
       "0  2021-10-27 17:20:00  0.91702  0.91724  0.91699  0.91716\n",
       "1  2021-10-27 17:25:00  0.91717  0.91719  0.91709  0.91711\n",
       "2  2021-10-27 17:30:00  0.91714  0.91728  0.91709  0.91723\n",
       "3  2021-10-27 17:35:00  0.91722  0.91739  0.91720  0.91733\n",
       "4  2021-10-27 17:40:00  0.91734  0.91736  0.91728  0.91728"
      ]
     },
     "execution_count": 10,
     "metadata": {},
     "output_type": "execute_result"
    }
   ],
   "source": [
    "df.to_csv(name2)\n",
    "df=pd.read_csv(name2)\n",
    "df=df.loc[:,columns]\n",
    "df.head()\n",
    "# df.to_csv(\"../Datasets/EURUSDm_M5_2021-2022.csv\")"
   ]
  },
  {
   "cell_type": "code",
   "execution_count": null,
   "metadata": {},
   "outputs": [],
   "source": []
  }
 ],
 "metadata": {
  "interpreter": {
   "hash": "b38ce1339e144b024249dde351d0ff159d2165f35f978b28da18dd505c714b14"
  },
  "kernelspec": {
   "display_name": "Python 3.9.7 ('datasci')",
   "language": "python",
   "name": "python3"
  },
  "language_info": {
   "codemirror_mode": {
    "name": "ipython",
    "version": 3
   },
   "file_extension": ".py",
   "mimetype": "text/x-python",
   "name": "python",
   "nbconvert_exporter": "python",
   "pygments_lexer": "ipython3",
   "version": "3.9.7"
  },
  "orig_nbformat": 4
 },
 "nbformat": 4,
 "nbformat_minor": 2
}
